{
 "cells": [
  {
   "cell_type": "markdown",
   "metadata": {},
   "source": [
    "# 보건 빅데이터 중간과제"
   ]
  },
  {
   "cell_type": "markdown",
   "metadata": {},
   "source": [
    "`2019. 2학기`"
   ]
  },
  {
   "cell_type": "markdown",
   "metadata": {},
   "source": [
    "## 1. 보건 빅 데이터(Health big data) 분석에 적용되는 머신러닝 방법을 설명하고 국내 외 보건분야 빅데이터 활용 사례를 설명하라. (5점)"
   ]
  },
  {
   "cell_type": "markdown",
   "metadata": {},
   "source": [
    "머신러닝 방법은 보통 지도학습과 비지도 학습으로 나뉘는데\n",
    "\n",
    "종양, 암 등의 이미 알려진 패턴을 발견하려면 지도학습을 통한 이미지 패턴을 학습시키고 환자의 사진에서 유사한 패턴을 찾아내는 식으로 진단이 가능하다.\n",
    "\n",
    "또는 기술의 발전과 함께 다양해지는 환자의 센서데이터를 딥러닝을 통해 진단하면 환자의 움직임, 심박수, 피부색 등 다양한 데이터에서부터 환자의 질환을 예상하고 응급상황을 예방할 수 있게 된다.\n",
    "\n",
    "### 예방\n",
    "* 유전체, 직업군, 계절 등 다양한 요인을을 분석하여 개인별 질병의 발병위험을 경고\n",
    "\n",
    "### 진단\n",
    "* 영상의학에서 엑스레이, MRI 등의 결과를 AI로 분석하여 환자의 질병을 파악한다. 해당 영상분석방법은 숙달된 의료인보다 더 정확히 이상을 감지하는 것으로 알려져 있다.\n",
    "\n",
    "### 보험\n",
    "* 가입자개개인에게 적합한 상품 추천\n",
    "* 앞으로 기술이 더 발달하면 개인화된 위험률 측정 및 보험금액 산정\n",
    "* 보험사기 적발\n",
    "\n",
    "### 참고\n",
    "* Healthcare에서 빅데이터의 활용 <https://brunch.co.kr/@jdate/4>\n",
    "* Healthcare에서 빅데이터의 활용 <http://www.kasl.org/upload/lecture/1479804453pdf_11.pdf>\n",
    "* 빅데이터의 활용과 의료발전 <http://www.dailymedi.com/detail.php?number=844936>\n",
    "* 보건의료빅데이터 후기 <https://jihongl.github.io/2017/09/27/mdata-seminar/>\n",
    "* 인공지능과 보건의료 과제 <http://kams.or.kr/webzine/17vol80/index.php?main_num=2>"
   ]
  },
  {
   "cell_type": "markdown",
   "metadata": {},
   "source": [
    "## 2. 보건정보지도(Health Map)에 대해 설명하고 활용예를 설명하라. (5점)"
   ]
  },
  {
   "cell_type": "markdown",
   "metadata": {},
   "source": [
    "최근 유행하는 ASF를 예로 들면\n",
    "\n",
    "날짜별로 ASF의 분포와 심각도를 표로 작성해서 확인할 수 있다.\n",
    "\n",
    "우리나라는 해당지도를 통해 동남아와 중국을 통해 북한과 한국으로 ASF가 전염되어오는 상황을 실시간으로 파악할 수 있었다\n",
    "\n",
    "중국에서의 급격한 확산은 야생돼지나 기타 차량으로 인한감염으로 보기엔 과도하게 빨라서 잔반급여로 인한 감염임을 파악할 수 있었고 우리나라는 돼지 잔반급여금지를 통해 해당 문제에 선제적으로 대응할 수 있었다.\n",
    "<https://www.google.com/imgres?imgurl=http%3A%2F%2Fwww.pigpeople.net%2Fdata%2Fphotos%2F20180936%2Fart_15362155861179_29c67f.jpg&imgrefurl=http%3A%2F%2Fwww.pigpeople.net%2Fnews%2Farticle.html%3Fno%3D5391&docid=d8rH-ZmbrwCHqM&tbnid=MmXFUF_3IyaK5M%3A&vet=10ahUKEwjwmZKdmqvlAhW9JaYKHaXXC_UQMwhPKAAwAA..i&w=680&h=459&bih=1287&biw=1278&q=ASF%20%EA%B5%AD%EB%82%B4%20%EC%A7%80%EB%8F%84&ved=0ahUKEwjwmZKdmqvlAhW9JaYKHaXXC_UQMwhPKAAwAA&iact=mrc&uact=8>\n",
    "\n",
    "북한에서의 확산정도를 파악하지 못하고 있지만 지도를 통해 멧돼지를 통해 바이러스가 유입될 경로를 차단하기 위해 멧돼지를 사살하는 등 지도를 통해 안전지역과 위험지역을 나누고 안전지역으로의 감염을 막기 위해 길목마다 소독을 하고 야상돼지의 움직임을 차단할 수 있다.\n",
    "<http://m.iloveorganic.co.kr/news/articleView.html?idxno=231279>\n",
    "\n",
    "### 참고\n",
    "* 서울 건강맵 <http://map.seoulhealth.kr/>\n",
    "* 의료기관 지도 <http://gisopendata.hira.or.kr/map.do>\n",
    "* ASF 발생지도 <http://www.mafra.go.kr/FMD-AI/1737/subview.do>\n",
    "  <http://www.mafra.go.kr/FMD-AI/1737/subview.do?enc=Zm5jdDF8QEB8JTJGYmJzJTJGRk1ELUFJJTJGMjU3JTJGMzIxMzI4JTJGYXJ0Y2xWaWV3LmRvJTNGYmJzQ2xTZXElM0QlMjZyZ3NFbmRkZVN0ciUzRCUyNmJic09wZW5XcmRTZXElM0QlMjZyZ3NCZ25kZVN0ciUzRCUyNnBhc3N3b3JkJTNEJTI2c3JjaENvbHVtbiUzRCUyNnJvdyUzRDEwJTI2aXNWaWV3TWluZSUzRGZhbHNlJTI2cGFnZSUzRDElMjZzcmNoV3JkJTNEJTI2>\n",
    "* 중국 ASF 발생일자 <https://www.google.com/imgres?imgurl=http%3A%2F%2Fwww.pigpeople.net%2Fdata%2Fphotos%2F20180936%2Fart_15362155861179_29c67f.jpg&imgrefurl=http%3A%2F%2Fwww.pigpeople.net%2Fnews%2Farticle.html%3Fno%3D5391&docid=d8rH-ZmbrwCHqM&tbnid=MmXFUF_3IyaK5M%3A&vet=10ahUKEwjwmZKdmqvlAhW9JaYKHaXXC_UQMwhPKAAwAA..i&w=680&h=459&bih=1287&biw=1278&q=ASF%20%EA%B5%AD%EB%82%B4%20%EC%A7%80%EB%8F%84&ved=0ahUKEwjwmZKdmqvlAhW9JaYKHaXXC_UQMwhPKAAwAA&iact=mrc&uact=8>"
   ]
  },
  {
   "cell_type": "markdown",
   "metadata": {},
   "source": [
    "## 3. 환자들의 혈압을 치료 방법에 따라 군을 나누어 조사된 자료가 다음과 같을 때 세 군의 분포 특징을 설명하라. (5점)"
   ]
  },
  {
   "cell_type": "code",
   "execution_count": 17,
   "metadata": {},
   "outputs": [
    {
     "data": {
      "image/png": "[encoded data removed]",
      "text/plain": [
       "plot without title"
      ]
     },
     "metadata": {},
     "output_type": "display_data"
    },
    {
     "data": {
      "image/png": "[encoded data removed]",
      "text/plain": [
       "plot without title"
      ]
     },
     "metadata": {},
     "output_type": "display_data"
    },
    {
     "data": {
      "image/png": "[encoded data removed]",
      "text/plain": [
       "plot without title"
      ]
     },
     "metadata": {},
     "output_type": "display_data"
    }
   ],
   "source": [
    "boxplot(c(72, 93, 107, 109, 116))\n",
    "boxplot(c(93, 101, 103, 106, 110))\n",
    "boxplot(c(63, 69, 70, 78, 79))"
   ]
  },
  {
   "cell_type": "markdown",
   "metadata": {},
   "source": [
    "### 혈압\n",
    "* 정상 범위: 수축기 120mmHg / 이완기 80mmHg\n",
    "* 고혈압: 수축기 140mmHg이상 / 확장기 90mmHg이상\n",
    "* 저혈압:\n",
    "혈압이 115/75mmHg에서 20/10mmHg 증가할 때마다 심혈관 질환의 위험은 두배씩 증가\n",
    "\n",
    "* A : 대부분의 환자가 정상범위 안에 있으나 일부 환자가 저혈압 위험군에 걸쳐 있다.\n",
    "* B : 모든 환자가 정상혈압군에 속하며 편차도 작은 상태로 매우 안전적인 결과를 보인다\n",
    "* C : 치료집단의 모든 환자가 균일하게 저혈압을 보이고 있지만 편차는 작은 상태로 약물 부작용이 의심된다."
   ]
  },
  {
   "cell_type": "markdown",
   "metadata": {},
   "source": [
    "## 4. 의료정보 고도화의 주요한 한 축인 환자중심 의료정보시스템에 대해 설명하라"
   ]
  },
  {
   "cell_type": "markdown",
   "metadata": {},
   "source": [
    "환자중심 의료정보시스템은 투명성이 핵심이 아닐까 싶다.\n",
    "정보화 이전에는 의료정보와 관련 지식은 의료인만이 가진 특권이었고 일반 환자들은 그 정보와 지식을 접할 방법이 없었고 자신과 같은 피해자가 있는지 자신이 특별히 부작용군에 속해 있는 것인지 알 길이 없었다.\n",
    "\n",
    "정보화와 함께 관련 지식과 정보가 공개되면서 환자들은 본인들의 권리를 찾기 시작했다.\n",
    "\n",
    "그와 함께 환자 중심의료는 병원과 의사의 경쟁력이 되기 시작했고 의료계에서도 이런 점에 관심을 갖게 되지 않았나 싶다.\n",
    "\n",
    "\n",
    "여러 현학적인 논의가 오가고 있지만 핵심적인 부분은 정보의 공개를 통한 의료기록의 공개인 것으로 보인다.\n",
    "\n",
    "* 치료기록 공유 - 과잉진료, 의료인 또는 환자의 과실 파악\n",
    "* 의사나 병원이 독점적으로 데이터에 대한 접근권을 갖지 않고 발생즉시 환자에게 권한이 공유\n",
    "\n",
    "\n",
    "### 참고\n",
    "환자 중심 진료의 개념 <https://www.hira.or.kr/images/11/newsletter/qinews1703/qinews_201703_pdf04.pdf>\n",
    "환자 중심 의료 <http://www.snu-dhpm.ac.kr/pds/files/150629_환자중심의료_김윤.pdf>"
   ]
  },
  {
   "cell_type": "markdown",
   "metadata": {},
   "source": [
    "## 5. 흑색종(melanoma) 환자들에 대한 BCG와 CP(coryne-bacterium parvum)의 생존지속 효과를 비교하기 위한 자료로 두 그룹의 생존분포를 그래프와 함께 비교하라. (5점)"
   ]
  },
  {
   "cell_type": "markdown",
   "metadata": {},
   "source": [
    "귀무가설 H0: S1=S2\n",
    "대립가설 H1: S1!=S2"
   ]
  },
  {
   "cell_type": "code",
   "execution_count": 26,
   "metadata": {},
   "outputs": [
    {
     "data": {
      "text/html": [
       "<table>\n",
       "<caption>A data.frame: 30 × 3</caption>\n",
       "<thead>\n",
       "\t<tr><th scope=col>time</th><th scope=col>status</th><th scope=col>x</th></tr>\n",
       "\t<tr><th scope=col>&lt;dbl&gt;</th><th scope=col>&lt;int&gt;</th><th scope=col>&lt;fct&gt;</th></tr>\n",
       "</thead>\n",
       "<tbody>\n",
       "\t<tr><td>33.7</td><td>0</td><td>BCG</td></tr>\n",
       "\t<tr><td> 3.9</td><td>1</td><td>BCG</td></tr>\n",
       "\t<tr><td>10.5</td><td>1</td><td>BCG</td></tr>\n",
       "\t<tr><td> 5.4</td><td>1</td><td>BCG</td></tr>\n",
       "\t<tr><td>19.5</td><td>1</td><td>BCG</td></tr>\n",
       "\t<tr><td>23.8</td><td>0</td><td>BCG</td></tr>\n",
       "\t<tr><td> 7.9</td><td>1</td><td>BCG</td></tr>\n",
       "\t<tr><td>16.9</td><td>0</td><td>BCG</td></tr>\n",
       "\t<tr><td>16.6</td><td>0</td><td>BCG</td></tr>\n",
       "\t<tr><td>33.7</td><td>0</td><td>BCG</td></tr>\n",
       "\t<tr><td>17.1</td><td>0</td><td>BCG</td></tr>\n",
       "\t<tr><td> 8.0</td><td>1</td><td>CP </td></tr>\n",
       "\t<tr><td>26.9</td><td>0</td><td>CP </td></tr>\n",
       "\t<tr><td>21.4</td><td>0</td><td>CP </td></tr>\n",
       "\t<tr><td>18.1</td><td>0</td><td>CP </td></tr>\n",
       "\t<tr><td>16.0</td><td>0</td><td>CP </td></tr>\n",
       "\t<tr><td> 6.9</td><td>1</td><td>CP </td></tr>\n",
       "\t<tr><td>11.0</td><td>0</td><td>CP </td></tr>\n",
       "\t<tr><td>24.8</td><td>0</td><td>CP </td></tr>\n",
       "\t<tr><td>23.0</td><td>0</td><td>CP </td></tr>\n",
       "\t<tr><td> 8.3</td><td>1</td><td>CP </td></tr>\n",
       "\t<tr><td>10.8</td><td>0</td><td>CP </td></tr>\n",
       "\t<tr><td>12.2</td><td>0</td><td>CP </td></tr>\n",
       "\t<tr><td>12.5</td><td>1</td><td>CP </td></tr>\n",
       "\t<tr><td>24.4</td><td>1</td><td>CP </td></tr>\n",
       "\t<tr><td> 7.7</td><td>1</td><td>CP </td></tr>\n",
       "\t<tr><td>14.8</td><td>0</td><td>CP </td></tr>\n",
       "\t<tr><td> 8.2</td><td>0</td><td>CP </td></tr>\n",
       "\t<tr><td> 8.2</td><td>1</td><td>CP </td></tr>\n",
       "\t<tr><td> 7.8</td><td>0</td><td>CP </td></tr>\n",
       "</tbody>\n",
       "</table>\n"
      ],
      "text/latex": [
       "A data.frame: 30 × 3\n",
       "\\begin{tabular}{r|lll}\n",
       " time & status & x\\\\\n",
       " <dbl> & <int> & <fct>\\\\\n",
       "\\hline\n",
       "\t 33.7 & 0 & BCG\\\\\n",
       "\t  3.9 & 1 & BCG\\\\\n",
       "\t 10.5 & 1 & BCG\\\\\n",
       "\t  5.4 & 1 & BCG\\\\\n",
       "\t 19.5 & 1 & BCG\\\\\n",
       "\t 23.8 & 0 & BCG\\\\\n",
       "\t  7.9 & 1 & BCG\\\\\n",
       "\t 16.9 & 0 & BCG\\\\\n",
       "\t 16.6 & 0 & BCG\\\\\n",
       "\t 33.7 & 0 & BCG\\\\\n",
       "\t 17.1 & 0 & BCG\\\\\n",
       "\t  8.0 & 1 & CP \\\\\n",
       "\t 26.9 & 0 & CP \\\\\n",
       "\t 21.4 & 0 & CP \\\\\n",
       "\t 18.1 & 0 & CP \\\\\n",
       "\t 16.0 & 0 & CP \\\\\n",
       "\t  6.9 & 1 & CP \\\\\n",
       "\t 11.0 & 0 & CP \\\\\n",
       "\t 24.8 & 0 & CP \\\\\n",
       "\t 23.0 & 0 & CP \\\\\n",
       "\t  8.3 & 1 & CP \\\\\n",
       "\t 10.8 & 0 & CP \\\\\n",
       "\t 12.2 & 0 & CP \\\\\n",
       "\t 12.5 & 1 & CP \\\\\n",
       "\t 24.4 & 1 & CP \\\\\n",
       "\t  7.7 & 1 & CP \\\\\n",
       "\t 14.8 & 0 & CP \\\\\n",
       "\t  8.2 & 0 & CP \\\\\n",
       "\t  8.2 & 1 & CP \\\\\n",
       "\t  7.8 & 0 & CP \\\\\n",
       "\\end{tabular}\n"
      ],
      "text/markdown": [
       "\n",
       "A data.frame: 30 × 3\n",
       "\n",
       "| time &lt;dbl&gt; | status &lt;int&gt; | x &lt;fct&gt; |\n",
       "|---|---|---|\n",
       "| 33.7 | 0 | BCG |\n",
       "|  3.9 | 1 | BCG |\n",
       "| 10.5 | 1 | BCG |\n",
       "|  5.4 | 1 | BCG |\n",
       "| 19.5 | 1 | BCG |\n",
       "| 23.8 | 0 | BCG |\n",
       "|  7.9 | 1 | BCG |\n",
       "| 16.9 | 0 | BCG |\n",
       "| 16.6 | 0 | BCG |\n",
       "| 33.7 | 0 | BCG |\n",
       "| 17.1 | 0 | BCG |\n",
       "|  8.0 | 1 | CP  |\n",
       "| 26.9 | 0 | CP  |\n",
       "| 21.4 | 0 | CP  |\n",
       "| 18.1 | 0 | CP  |\n",
       "| 16.0 | 0 | CP  |\n",
       "|  6.9 | 1 | CP  |\n",
       "| 11.0 | 0 | CP  |\n",
       "| 24.8 | 0 | CP  |\n",
       "| 23.0 | 0 | CP  |\n",
       "|  8.3 | 1 | CP  |\n",
       "| 10.8 | 0 | CP  |\n",
       "| 12.2 | 0 | CP  |\n",
       "| 12.5 | 1 | CP  |\n",
       "| 24.4 | 1 | CP  |\n",
       "|  7.7 | 1 | CP  |\n",
       "| 14.8 | 0 | CP  |\n",
       "|  8.2 | 0 | CP  |\n",
       "|  8.2 | 1 | CP  |\n",
       "|  7.8 | 0 | CP  |\n",
       "\n"
      ],
      "text/plain": [
       "   time status x  \n",
       "1  33.7 0      BCG\n",
       "2   3.9 1      BCG\n",
       "3  10.5 1      BCG\n",
       "4   5.4 1      BCG\n",
       "5  19.5 1      BCG\n",
       "6  23.8 0      BCG\n",
       "7   7.9 1      BCG\n",
       "8  16.9 0      BCG\n",
       "9  16.6 0      BCG\n",
       "10 33.7 0      BCG\n",
       "11 17.1 0      BCG\n",
       "12  8.0 1      CP \n",
       "13 26.9 0      CP \n",
       "14 21.4 0      CP \n",
       "15 18.1 0      CP \n",
       "16 16.0 0      CP \n",
       "17  6.9 1      CP \n",
       "18 11.0 0      CP \n",
       "19 24.8 0      CP \n",
       "20 23.0 0      CP \n",
       "21  8.3 1      CP \n",
       "22 10.8 0      CP \n",
       "23 12.2 0      CP \n",
       "24 12.5 1      CP \n",
       "25 24.4 1      CP \n",
       "26  7.7 1      CP \n",
       "27 14.8 0      CP \n",
       "28  8.2 0      CP \n",
       "29  8.2 1      CP \n",
       "30  7.8 0      CP "
      ]
     },
     "metadata": {},
     "output_type": "display_data"
    }
   ],
   "source": [
    "data=\"time status x\n",
    "33.7 0 BCG\n",
    "3.9 1 BCG\n",
    "10.5 1 BCG\n",
    "5.4 1 BCG\n",
    "19.5 1 BCG\n",
    "23.8 0 BCG\n",
    "7.9 1 BCG\n",
    "16.9 0 BCG\n",
    "16.6 0 BCG\n",
    "33.7 0 BCG\n",
    "17.1 0 BCG\n",
    "8.0 1 CP\n",
    "26.9 0 CP\n",
    "21.4 0 CP\n",
    "18.1 0 CP\n",
    "16.0 0 CP\n",
    "6.9 1 CP\n",
    "11.0 0 CP\n",
    "24.8 0 CP\n",
    "23.0 0 CP\n",
    "8.3 1 CP\n",
    "10.8 0 CP\n",
    "12.2 0 CP\n",
    "12.5 1 CP\n",
    "24.4 1 CP\n",
    "7.7 1 CP\n",
    "14.8 0 CP\n",
    "8.2 0 CP\n",
    "8.2 1 CP\n",
    "7.8 0 CP\n",
    "\"\n",
    "\n",
    "흑색종환자자료=read.table(text=data, header=T)\n",
    "흑색종환자자료\n",
    "attach(흑색종환자자료)"
   ]
  },
  {
   "cell_type": "code",
   "execution_count": 28,
   "metadata": {},
   "outputs": [
    {
     "data": {
      "text/plain": [
       "Call: survfit(formula = Surv(time, status) ~ x, data = 흑색종환자자료)\n",
       "\n",
       "                x=BCG \n",
       " time n.risk n.event survival std.err lower 95% CI upper 95% CI\n",
       "  3.9     11       1    0.909  0.0867        0.754        1.000\n",
       "  5.4     10       1    0.818  0.1163        0.619        1.000\n",
       "  7.9      9       1    0.727  0.1343        0.506        1.000\n",
       " 10.5      8       1    0.636  0.1450        0.407        0.995\n",
       " 19.5      4       1    0.477  0.1755        0.232        0.981\n",
       "\n",
       "                x=CP \n",
       " time n.risk n.event survival std.err lower 95% CI upper 95% CI\n",
       "  6.9     19       1    0.947  0.0512        0.852        1.000\n",
       "  7.7     18       1    0.895  0.0704        0.767        1.000\n",
       "  8.0     16       1    0.839  0.0854        0.687        1.000\n",
       "  8.2     15       1    0.783  0.0963        0.615        0.996\n",
       "  8.3     13       1    0.723  0.1060        0.542        0.963\n",
       " 12.5      9       1    0.642  0.1209        0.444        0.929\n",
       " 24.4      3       1    0.428  0.1925        0.177        1.000\n"
      ]
     },
     "metadata": {},
     "output_type": "display_data"
    }
   ],
   "source": [
    "library(survival)\n",
    "# 누적한계추정치(Kaplan-Meier추정치)\n",
    "적합2=survfit(Surv(time,status)~x,data=흑색종환자자료)\n",
    "summary(적합2)"
   ]
  },
  {
   "cell_type": "code",
   "execution_count": 29,
   "metadata": {},
   "outputs": [
    {
     "data": {
      "image/png": "[encoded data removed]",
      "text/plain": [
       "plot without title"
      ]
     },
     "metadata": {},
     "output_type": "display_data"
    }
   ],
   "source": [
    "# 누적한계추정치 비교 그래프\n",
    "plot(적합2,xlab=\"시간\",ylab=\"생존함수\",lty=c(1,2))\n",
    "legend(5,0.2,c(\"CP 처리 그룹\", \"BCG 처리 그룹\"),lty=c(2,1))"
   ]
  },
  {
   "cell_type": "code",
   "execution_count": 30,
   "metadata": {},
   "outputs": [
    {
     "data": {
      "text/plain": [
       "Call:\n",
       "survdiff(formula = Surv(time, status) ~ x, data = 흑색종환자자료)\n",
       "\n",
       "       N Observed Expected (O-E)^2/E (O-E)^2/V\n",
       "x=BCG 11        5     4.47    0.0628     0.101\n",
       "x=CP  19        7     7.53    0.0373     0.101\n",
       "\n",
       " Chisq= 0.1  on 1 degrees of freedom, p= 0.8 "
      ]
     },
     "metadata": {},
     "output_type": "display_data"
    }
   ],
   "source": [
    "#로그-순위 검정법(log-rank test)\n",
    "survdiff(Surv(time,status)~x,data=흑색종환자자료)"
   ]
  },
  {
   "cell_type": "code",
   "execution_count": 31,
   "metadata": {},
   "outputs": [
    {
     "data": {
      "text/plain": [
       "Call:\n",
       "survdiff(formula = Surv(time, status) ~ x, data = 흑색종환자자료, \n",
       "    rho = 1)\n",
       "\n",
       "       N Observed Expected (O-E)^2/E (O-E)^2/V\n",
       "x=BCG 11     4.21     3.57    0.1146     0.221\n",
       "x=CP  19     5.49     6.13    0.0667     0.221\n",
       "\n",
       " Chisq= 0.2  on 1 degrees of freedom, p= 0.6 "
      ]
     },
     "metadata": {},
     "output_type": "display_data"
    }
   ],
   "source": [
    "# Gehan-Wilcoxon 검정\n",
    "survdiff(Surv(time,status)~x,rho=1,data=흑색종환자자료)"
   ]
  },
  {
   "cell_type": "markdown",
   "metadata": {},
   "source": []
  },
  {
   "cell_type": "markdown",
   "metadata": {},
   "source": [
    "## 6. 다이어트 제제를 복용하기 전과 후의 혈압치가 다음과 같을 때 다이어트제제가 혈압을 낮추는지 검정하라. (5점)"
   ]
  },
  {
   "cell_type": "code",
   "execution_count": 1,
   "metadata": {},
   "outputs": [],
   "source": [
    "before=c(90,56,49,64,65,88,62,91,74,93,55,71,54,64,54)\n",
    "after=c(72,55,56,57,62,79,55,72,73,74,58,59,58,71,61)"
   ]
  },
  {
   "cell_type": "markdown",
   "metadata": {},
   "source": [
    "귀무가설 H0: = u1 - u2 = 0"
   ]
  },
  {
   "cell_type": "code",
   "execution_count": 15,
   "metadata": {},
   "outputs": [
    {
     "data": {
      "text/html": [
       "68.6666666666667"
      ],
      "text/latex": [
       "68.6666666666667"
      ],
      "text/markdown": [
       "68.6666666666667"
      ],
      "text/plain": [
       "[1] 68.66667"
      ]
     },
     "metadata": {},
     "output_type": "display_data"
    },
    {
     "data": {
      "text/html": [
       "64.1333333333333"
      ],
      "text/latex": [
       "64.1333333333333"
      ],
      "text/markdown": [
       "64.1333333333333"
      ],
      "text/plain": [
       "[1] 64.13333"
      ]
     },
     "metadata": {},
     "output_type": "display_data"
    },
    {
     "data": {
      "text/html": [
       "4.53333333333333"
      ],
      "text/latex": [
       "4.53333333333333"
      ],
      "text/markdown": [
       "4.53333333333333"
      ],
      "text/plain": [
       "[1] 4.533333"
      ]
     },
     "metadata": {},
     "output_type": "display_data"
    }
   ],
   "source": [
    "# 투약 전 혈압의 평균\n",
    "u1=mean(before)\n",
    "u1\n",
    "# 투약 후 혈압의 평균\n",
    "u2=mean(after)\n",
    "u2\n",
    "mean_diff=u1-u2\n",
    "mean_diff"
   ]
  },
  {
   "cell_type": "code",
   "execution_count": 16,
   "metadata": {},
   "outputs": [
    {
     "data": {
      "text/html": [
       "<ol class=list-inline>\n",
       "\t<li>18</li>\n",
       "\t<li>1</li>\n",
       "\t<li>-7</li>\n",
       "\t<li>7</li>\n",
       "\t<li>3</li>\n",
       "\t<li>9</li>\n",
       "\t<li>7</li>\n",
       "\t<li>19</li>\n",
       "\t<li>1</li>\n",
       "\t<li>19</li>\n",
       "\t<li>-3</li>\n",
       "\t<li>12</li>\n",
       "\t<li>-4</li>\n",
       "\t<li>-7</li>\n",
       "\t<li>-7</li>\n",
       "</ol>\n"
      ],
      "text/latex": [
       "\\begin{enumerate*}\n",
       "\\item 18\n",
       "\\item 1\n",
       "\\item -7\n",
       "\\item 7\n",
       "\\item 3\n",
       "\\item 9\n",
       "\\item 7\n",
       "\\item 19\n",
       "\\item 1\n",
       "\\item 19\n",
       "\\item -3\n",
       "\\item 12\n",
       "\\item -4\n",
       "\\item -7\n",
       "\\item -7\n",
       "\\end{enumerate*}\n"
      ],
      "text/markdown": [
       "1. 18\n",
       "2. 1\n",
       "3. -7\n",
       "4. 7\n",
       "5. 3\n",
       "6. 9\n",
       "7. 7\n",
       "8. 19\n",
       "9. 1\n",
       "10. 19\n",
       "11. -3\n",
       "12. 12\n",
       "13. -4\n",
       "14. -7\n",
       "15. -7\n",
       "\n",
       "\n"
      ],
      "text/plain": [
       " [1] 18  1 -7  7  3  9  7 19  1 19 -3 12 -4 -7 -7"
      ]
     },
     "metadata": {},
     "output_type": "display_data"
    }
   ],
   "source": [
    "diff=before-after\n",
    "diff"
   ]
  },
  {
   "cell_type": "code",
   "execution_count": 17,
   "metadata": {},
   "outputs": [
    {
     "data": {
      "text/plain": [
       "\n",
       "\tShapiro-Wilk normality test\n",
       "\n",
       "data:  diff\n",
       "W = 0.90982, p-value = 0.1345\n"
      ]
     },
     "metadata": {},
     "output_type": "display_data"
    },
    {
     "data": {
      "image/png": "[encoded data removed]",
      "text/plain": [
       "Plot with title “Normal Q-Q Plot”"
      ]
     },
     "metadata": {},
     "output_type": "display_data"
    }
   ],
   "source": [
    "# 정규성검정: Shapiro-WIlk test\n",
    "qqnorm(diff)\n",
    "qqline(diff, col=\"red\")\n",
    "shapiro.test(diff)"
   ]
  },
  {
   "cell_type": "code",
   "execution_count": 18,
   "metadata": {},
   "outputs": [
    {
     "data": {
      "text/html": [
       "4.53333333333333"
      ],
      "text/latex": [
       "4.53333333333333"
      ],
      "text/markdown": [
       "4.53333333333333"
      ],
      "text/plain": [
       "[1] 4.533333"
      ]
     },
     "metadata": {},
     "output_type": "display_data"
    },
    {
     "data": {
      "text/html": [
       "9.42539629077182"
      ],
      "text/latex": [
       "9.42539629077182"
      ],
      "text/markdown": [
       "9.42539629077182"
      ],
      "text/plain": [
       "[1] 9.425396"
      ]
     },
     "metadata": {},
     "output_type": "display_data"
    }
   ],
   "source": [
    "# 짝지은 표본의 평균비교\n",
    "mean(diff)\n",
    "sd(diff)"
   ]
  },
  {
   "cell_type": "code",
   "execution_count": 19,
   "metadata": {},
   "outputs": [
    {
     "data": {
      "text/plain": [
       "\n",
       "\tPaired t-test\n",
       "\n",
       "data:  before and after\n",
       "t = 1.8628, df = 14, p-value = 0.08361\n",
       "alternative hypothesis: true difference in means is not equal to 0\n",
       "95 percent confidence interval:\n",
       " -0.6862772  9.7529438\n",
       "sample estimates:\n",
       "mean of the differences \n",
       "               4.533333 \n"
      ]
     },
     "metadata": {},
     "output_type": "display_data"
    }
   ],
   "source": [
    "t.test(before, after, paired=T, alternatie=\"greater\")"
   ]
  },
  {
   "cell_type": "markdown",
   "metadata": {},
   "source": [
    "평균 차이에 대하여 정규성 검정(Shapiro-Wilk)을 하니 p-값이 0.1345 로 정규분포를 이룬다고 할 수 있다\n",
    "단측멎어에 대한 p-값이 0.0418이므로 유의수준 5% 하에서 두 그룹의 혈압 차이가 없다는 귀무가설을 기각할 만한 충분한 증거가 있으므로 새로운 약이 혈압을 내린다고 할 수 있다."
   ]
  }
 ],
 "metadata": {
  "kernelspec": {
   "display_name": "R",
   "language": "R",
   "name": "ir"
  },
  "language_info": {
   "codemirror_mode": "r",
   "file_extension": ".r",
   "mimetype": "text/x-r-source",
   "name": "R",
   "pygments_lexer": "r",
   "version": "3.6.1"
  }
 },
 "nbformat": 4,
 "nbformat_minor": 2
}
