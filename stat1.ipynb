{
 "cells": [
  {
   "cell_type": "markdown",
   "metadata": {},
   "source": [
    "# 데이터파일 읽기"
   ]
  },
  {
   "cell_type": "code",
   "execution_count": 4,
   "metadata": {},
   "outputs": [
    {
     "data": {
      "text/html": [
       "<table>\n",
       "<caption>A data.frame: 60 × 2</caption>\n",
       "<thead>\n",
       "\t<tr><th scope=col>성별</th><th scope=col>담즙의과포화비율</th></tr>\n",
       "\t<tr><th scope=col>&lt;fct&gt;</th><th scope=col>&lt;int&gt;</th></tr>\n",
       "</thead>\n",
       "<tbody>\n",
       "\t<tr><td>남자</td><td> 40</td></tr>\n",
       "\t<tr><td>남자</td><td> 88</td></tr>\n",
       "\t<tr><td>남자</td><td>110</td></tr>\n",
       "\t<tr><td>남자</td><td> 57</td></tr>\n",
       "\t<tr><td>남자</td><td> 86</td></tr>\n",
       "\t<tr><td>남자</td><td>137</td></tr>\n",
       "\t<tr><td>남자</td><td> 78</td></tr>\n",
       "\t<tr><td>남자</td><td>111</td></tr>\n",
       "\t<tr><td>남자</td><td> 88</td></tr>\n",
       "\t<tr><td>남자</td><td> 80</td></tr>\n",
       "\t<tr><td>남자</td><td> 86</td></tr>\n",
       "\t<tr><td>남자</td><td> 80</td></tr>\n",
       "\t<tr><td>남자</td><td> 47</td></tr>\n",
       "\t<tr><td>남자</td><td>106</td></tr>\n",
       "\t<tr><td>남자</td><td> 65</td></tr>\n",
       "\t<tr><td>남자</td><td> 74</td></tr>\n",
       "\t<tr><td>남자</td><td> 66</td></tr>\n",
       "\t<tr><td>남자</td><td> 79</td></tr>\n",
       "\t<tr><td>남자</td><td> 58</td></tr>\n",
       "\t<tr><td>남자</td><td>123</td></tr>\n",
       "\t<tr><td>남자</td><td> 87</td></tr>\n",
       "\t<tr><td>남자</td><td> 88</td></tr>\n",
       "\t<tr><td>남자</td><td> 90</td></tr>\n",
       "\t<tr><td>남자</td><td> 56</td></tr>\n",
       "\t<tr><td>남자</td><td> 73</td></tr>\n",
       "\t<tr><td>남자</td><td>112</td></tr>\n",
       "\t<tr><td>남자</td><td>110</td></tr>\n",
       "\t<tr><td>남자</td><td>118</td></tr>\n",
       "\t<tr><td>남자</td><td> 52</td></tr>\n",
       "\t<tr><td>남자</td><td>106</td></tr>\n",
       "\t<tr><td>남자</td><td> 67</td></tr>\n",
       "\t<tr><td>여자</td><td> 65</td></tr>\n",
       "\t<tr><td>여자</td><td> 52</td></tr>\n",
       "\t<tr><td>여자</td><td> 84</td></tr>\n",
       "\t<tr><td>여자</td><td> 86</td></tr>\n",
       "\t<tr><td>여자</td><td> 35</td></tr>\n",
       "\t<tr><td>여자</td><td>116</td></tr>\n",
       "\t<tr><td>여자</td><td> 76</td></tr>\n",
       "\t<tr><td>여자</td><td> 55</td></tr>\n",
       "\t<tr><td>여자</td><td> 73</td></tr>\n",
       "\t<tr><td>여자</td><td> 89</td></tr>\n",
       "\t<tr><td>여자</td><td>127</td></tr>\n",
       "\t<tr><td>여자</td><td> 87</td></tr>\n",
       "\t<tr><td>여자</td><td>142</td></tr>\n",
       "\t<tr><td>여자</td><td> 77</td></tr>\n",
       "\t<tr><td>여자</td><td> 76</td></tr>\n",
       "\t<tr><td>여자</td><td> 58</td></tr>\n",
       "\t<tr><td>여자</td><td> 91</td></tr>\n",
       "\t<tr><td>여자</td><td>107</td></tr>\n",
       "\t<tr><td>여자</td><td> 98</td></tr>\n",
       "\t<tr><td>여자</td><td>128</td></tr>\n",
       "\t<tr><td>여자</td><td> 84</td></tr>\n",
       "\t<tr><td>여자</td><td>146</td></tr>\n",
       "\t<tr><td>여자</td><td> 75</td></tr>\n",
       "\t<tr><td>여자</td><td>120</td></tr>\n",
       "\t<tr><td>여자</td><td> 80</td></tr>\n",
       "\t<tr><td>여자</td><td> 82</td></tr>\n",
       "\t<tr><td>여자</td><td>123</td></tr>\n",
       "\t<tr><td>여자</td><td> 66</td></tr>\n",
       "\t<tr><td>여자</td><td> 69</td></tr>\n",
       "</tbody>\n",
       "</table>\n"
      ],
      "text/latex": [
       "A data.frame: 60 × 2\n",
       "\\begin{tabular}{r|ll}\n",
       " 성별 & 담즙의과포화비율\\\\\n",
       " <fct> & <int>\\\\\n",
       "\\hline\n",
       "\t 남자 &  40\\\\\n",
       "\t 남자 &  88\\\\\n",
       "\t 남자 & 110\\\\\n",
       "\t 남자 &  57\\\\\n",
       "\t 남자 &  86\\\\\n",
       "\t 남자 & 137\\\\\n",
       "\t 남자 &  78\\\\\n",
       "\t 남자 & 111\\\\\n",
       "\t 남자 &  88\\\\\n",
       "\t 남자 &  80\\\\\n",
       "\t 남자 &  86\\\\\n",
       "\t 남자 &  80\\\\\n",
       "\t 남자 &  47\\\\\n",
       "\t 남자 & 106\\\\\n",
       "\t 남자 &  65\\\\\n",
       "\t 남자 &  74\\\\\n",
       "\t 남자 &  66\\\\\n",
       "\t 남자 &  79\\\\\n",
       "\t 남자 &  58\\\\\n",
       "\t 남자 & 123\\\\\n",
       "\t 남자 &  87\\\\\n",
       "\t 남자 &  88\\\\\n",
       "\t 남자 &  90\\\\\n",
       "\t 남자 &  56\\\\\n",
       "\t 남자 &  73\\\\\n",
       "\t 남자 & 112\\\\\n",
       "\t 남자 & 110\\\\\n",
       "\t 남자 & 118\\\\\n",
       "\t 남자 &  52\\\\\n",
       "\t 남자 & 106\\\\\n",
       "\t 남자 &  67\\\\\n",
       "\t 여자 &  65\\\\\n",
       "\t 여자 &  52\\\\\n",
       "\t 여자 &  84\\\\\n",
       "\t 여자 &  86\\\\\n",
       "\t 여자 &  35\\\\\n",
       "\t 여자 & 116\\\\\n",
       "\t 여자 &  76\\\\\n",
       "\t 여자 &  55\\\\\n",
       "\t 여자 &  73\\\\\n",
       "\t 여자 &  89\\\\\n",
       "\t 여자 & 127\\\\\n",
       "\t 여자 &  87\\\\\n",
       "\t 여자 & 142\\\\\n",
       "\t 여자 &  77\\\\\n",
       "\t 여자 &  76\\\\\n",
       "\t 여자 &  58\\\\\n",
       "\t 여자 &  91\\\\\n",
       "\t 여자 & 107\\\\\n",
       "\t 여자 &  98\\\\\n",
       "\t 여자 & 128\\\\\n",
       "\t 여자 &  84\\\\\n",
       "\t 여자 & 146\\\\\n",
       "\t 여자 &  75\\\\\n",
       "\t 여자 & 120\\\\\n",
       "\t 여자 &  80\\\\\n",
       "\t 여자 &  82\\\\\n",
       "\t 여자 & 123\\\\\n",
       "\t 여자 &  66\\\\\n",
       "\t 여자 &  69\\\\\n",
       "\\end{tabular}\n"
      ],
      "text/markdown": [
       "\n",
       "A data.frame: 60 × 2\n",
       "\n",
       "| 성별 &lt;fct&gt; | 담즙의과포화비율 &lt;int&gt; |\n",
       "|---|---|\n",
       "| 남자 |  40 |\n",
       "| 남자 |  88 |\n",
       "| 남자 | 110 |\n",
       "| 남자 |  57 |\n",
       "| 남자 |  86 |\n",
       "| 남자 | 137 |\n",
       "| 남자 |  78 |\n",
       "| 남자 | 111 |\n",
       "| 남자 |  88 |\n",
       "| 남자 |  80 |\n",
       "| 남자 |  86 |\n",
       "| 남자 |  80 |\n",
       "| 남자 |  47 |\n",
       "| 남자 | 106 |\n",
       "| 남자 |  65 |\n",
       "| 남자 |  74 |\n",
       "| 남자 |  66 |\n",
       "| 남자 |  79 |\n",
       "| 남자 |  58 |\n",
       "| 남자 | 123 |\n",
       "| 남자 |  87 |\n",
       "| 남자 |  88 |\n",
       "| 남자 |  90 |\n",
       "| 남자 |  56 |\n",
       "| 남자 |  73 |\n",
       "| 남자 | 112 |\n",
       "| 남자 | 110 |\n",
       "| 남자 | 118 |\n",
       "| 남자 |  52 |\n",
       "| 남자 | 106 |\n",
       "| 남자 |  67 |\n",
       "| 여자 |  65 |\n",
       "| 여자 |  52 |\n",
       "| 여자 |  84 |\n",
       "| 여자 |  86 |\n",
       "| 여자 |  35 |\n",
       "| 여자 | 116 |\n",
       "| 여자 |  76 |\n",
       "| 여자 |  55 |\n",
       "| 여자 |  73 |\n",
       "| 여자 |  89 |\n",
       "| 여자 | 127 |\n",
       "| 여자 |  87 |\n",
       "| 여자 | 142 |\n",
       "| 여자 |  77 |\n",
       "| 여자 |  76 |\n",
       "| 여자 |  58 |\n",
       "| 여자 |  91 |\n",
       "| 여자 | 107 |\n",
       "| 여자 |  98 |\n",
       "| 여자 | 128 |\n",
       "| 여자 |  84 |\n",
       "| 여자 | 146 |\n",
       "| 여자 |  75 |\n",
       "| 여자 | 120 |\n",
       "| 여자 |  80 |\n",
       "| 여자 |  82 |\n",
       "| 여자 | 123 |\n",
       "| 여자 |  66 |\n",
       "| 여자 |  69 |\n",
       "\n"
      ],
      "text/plain": [
       "   성별 담즙의과포화비율\n",
       "1  남자  40             \n",
       "2  남자  88             \n",
       "3  남자 110             \n",
       "4  남자  57             \n",
       "5  남자  86             \n",
       "6  남자 137             \n",
       "7  남자  78             \n",
       "8  남자 111             \n",
       "9  남자  88             \n",
       "10 남자  80             \n",
       "11 남자  86             \n",
       "12 남자  80             \n",
       "13 남자  47             \n",
       "14 남자 106             \n",
       "15 남자  65             \n",
       "16 남자  74             \n",
       "17 남자  66             \n",
       "18 남자  79             \n",
       "19 남자  58             \n",
       "20 남자 123             \n",
       "21 남자  87             \n",
       "22 남자  88             \n",
       "23 남자  90             \n",
       "24 남자  56             \n",
       "25 남자  73             \n",
       "26 남자 112             \n",
       "27 남자 110             \n",
       "28 남자 118             \n",
       "29 남자  52             \n",
       "30 남자 106             \n",
       "31 남자  67             \n",
       "32 여자  65             \n",
       "33 여자  52             \n",
       "34 여자  84             \n",
       "35 여자  86             \n",
       "36 여자  35             \n",
       "37 여자 116             \n",
       "38 여자  76             \n",
       "39 여자  55             \n",
       "40 여자  73             \n",
       "41 여자  89             \n",
       "42 여자 127             \n",
       "43 여자  87             \n",
       "44 여자 142             \n",
       "45 여자  77             \n",
       "46 여자  76             \n",
       "47 여자  58             \n",
       "48 여자  91             \n",
       "49 여자 107             \n",
       "50 여자  98             \n",
       "51 여자 128             \n",
       "52 여자  84             \n",
       "53 여자 146             \n",
       "54 여자  75             \n",
       "55 여자 120             \n",
       "56 여자  80             \n",
       "57 여자  82             \n",
       "58 여자 123             \n",
       "59 여자  66             \n",
       "60 여자  69             "
      ]
     },
     "metadata": {},
     "output_type": "display_data"
    }
   ],
   "source": [
    "담즙과포화비율자료=read.table(\"담즙과포화비율.txt\", header=T)\n",
    "담즙과포화비율자료"
   ]
  },
  {
   "cell_type": "code",
   "execution_count": 5,
   "metadata": {},
   "outputs": [
    {
     "name": "stderr",
     "output_type": "stream",
     "text": [
      "The following objects are masked from 담즙과포화비율자료 (pos = 3):\n",
      "\n",
      "    담즙의과포화비율, 성별\n",
      "\n",
      "The following objects are masked from 담즙과포화비율자료 (pos = 4):\n",
      "\n",
      "    담즙의과포화비율, 성별\n",
      "\n"
     ]
    }
   ],
   "source": [
    "attach(담즙과포화비율자료)"
   ]
  },
  {
   "cell_type": "markdown",
   "metadata": {},
   "source": [
    "# 자료를 순서대로 그림으로 나타내기"
   ]
  },
  {
   "cell_type": "code",
   "execution_count": 8,
   "metadata": {},
   "outputs": [
    {
     "data": {
      "image/png": "[encoded data removed]",
      "text/plain": [
       "Plot with title “담즙의과포화비율”"
      ]
     },
     "metadata": {},
     "output_type": "display_data"
    }
   ],
   "source": [
    "plot(담즙의과포화비율, type=\"p\", xlab=\"자료\", ylab=\"담즙의과포화비율\",main=\"담즙의과포화비율\")\n",
    "par(new=T)"
   ]
  },
  {
   "cell_type": "code",
   "execution_count": 9,
   "metadata": {},
   "outputs": [
    {
     "data": {
      "image/png": "[encoded data removed]",
      "text/plain": [
       "Plot with title “담즙의과포화비율”"
      ]
     },
     "metadata": {},
     "output_type": "display_data"
    }
   ],
   "source": [
    "plot(담즙의과포화비율, type=\"h\", xlab=\"자료\", ylab=\"담즙의과포화비율\",main=\"담즙의과포화비율\")"
   ]
  },
  {
   "cell_type": "markdown",
   "metadata": {},
   "source": [
    "# 데이터의 개수"
   ]
  },
  {
   "cell_type": "code",
   "execution_count": 10,
   "metadata": {},
   "outputs": [
    {
     "data": {
      "text/html": [
       "60"
      ],
      "text/latex": [
       "60"
      ],
      "text/markdown": [
       "60"
      ],
      "text/plain": [
       "[1] 60"
      ]
     },
     "metadata": {},
     "output_type": "display_data"
    }
   ],
   "source": [
    "n=length(담즙의과포화비율)\n",
    "n"
   ]
  },
  {
   "cell_type": "markdown",
   "metadata": {},
   "source": [
    "# 담즙의과포화비율의 정렬(sort)-오름차순"
   ]
  },
  {
   "cell_type": "code",
   "execution_count": 12,
   "metadata": {},
   "outputs": [
    {
     "data": {
      "text/html": [
       "<ol class=list-inline>\n",
       "\t<li>35</li>\n",
       "\t<li>40</li>\n",
       "\t<li>47</li>\n",
       "\t<li>52</li>\n",
       "\t<li>52</li>\n",
       "\t<li>55</li>\n",
       "\t<li>56</li>\n",
       "\t<li>57</li>\n",
       "\t<li>58</li>\n",
       "\t<li>58</li>\n",
       "\t<li>65</li>\n",
       "\t<li>65</li>\n",
       "\t<li>66</li>\n",
       "\t<li>66</li>\n",
       "\t<li>67</li>\n",
       "\t<li>69</li>\n",
       "\t<li>73</li>\n",
       "\t<li>73</li>\n",
       "\t<li>74</li>\n",
       "\t<li>75</li>\n",
       "\t<li>76</li>\n",
       "\t<li>76</li>\n",
       "\t<li>77</li>\n",
       "\t<li>78</li>\n",
       "\t<li>79</li>\n",
       "\t<li>80</li>\n",
       "\t<li>80</li>\n",
       "\t<li>80</li>\n",
       "\t<li>82</li>\n",
       "\t<li>84</li>\n",
       "\t<li>84</li>\n",
       "\t<li>86</li>\n",
       "\t<li>86</li>\n",
       "\t<li>86</li>\n",
       "\t<li>87</li>\n",
       "\t<li>87</li>\n",
       "\t<li>88</li>\n",
       "\t<li>88</li>\n",
       "\t<li>88</li>\n",
       "\t<li>89</li>\n",
       "\t<li>90</li>\n",
       "\t<li>91</li>\n",
       "\t<li>98</li>\n",
       "\t<li>106</li>\n",
       "\t<li>106</li>\n",
       "\t<li>107</li>\n",
       "\t<li>110</li>\n",
       "\t<li>110</li>\n",
       "\t<li>111</li>\n",
       "\t<li>112</li>\n",
       "\t<li>116</li>\n",
       "\t<li>118</li>\n",
       "\t<li>120</li>\n",
       "\t<li>123</li>\n",
       "\t<li>123</li>\n",
       "\t<li>127</li>\n",
       "\t<li>128</li>\n",
       "\t<li>137</li>\n",
       "\t<li>142</li>\n",
       "\t<li>146</li>\n",
       "</ol>\n"
      ],
      "text/latex": [
       "\\begin{enumerate*}\n",
       "\\item 35\n",
       "\\item 40\n",
       "\\item 47\n",
       "\\item 52\n",
       "\\item 52\n",
       "\\item 55\n",
       "\\item 56\n",
       "\\item 57\n",
       "\\item 58\n",
       "\\item 58\n",
       "\\item 65\n",
       "\\item 65\n",
       "\\item 66\n",
       "\\item 66\n",
       "\\item 67\n",
       "\\item 69\n",
       "\\item 73\n",
       "\\item 73\n",
       "\\item 74\n",
       "\\item 75\n",
       "\\item 76\n",
       "\\item 76\n",
       "\\item 77\n",
       "\\item 78\n",
       "\\item 79\n",
       "\\item 80\n",
       "\\item 80\n",
       "\\item 80\n",
       "\\item 82\n",
       "\\item 84\n",
       "\\item 84\n",
       "\\item 86\n",
       "\\item 86\n",
       "\\item 86\n",
       "\\item 87\n",
       "\\item 87\n",
       "\\item 88\n",
       "\\item 88\n",
       "\\item 88\n",
       "\\item 89\n",
       "\\item 90\n",
       "\\item 91\n",
       "\\item 98\n",
       "\\item 106\n",
       "\\item 106\n",
       "\\item 107\n",
       "\\item 110\n",
       "\\item 110\n",
       "\\item 111\n",
       "\\item 112\n",
       "\\item 116\n",
       "\\item 118\n",
       "\\item 120\n",
       "\\item 123\n",
       "\\item 123\n",
       "\\item 127\n",
       "\\item 128\n",
       "\\item 137\n",
       "\\item 142\n",
       "\\item 146\n",
       "\\end{enumerate*}\n"
      ],
      "text/markdown": [
       "1. 35\n",
       "2. 40\n",
       "3. 47\n",
       "4. 52\n",
       "5. 52\n",
       "6. 55\n",
       "7. 56\n",
       "8. 57\n",
       "9. 58\n",
       "10. 58\n",
       "11. 65\n",
       "12. 65\n",
       "13. 66\n",
       "14. 66\n",
       "15. 67\n",
       "16. 69\n",
       "17. 73\n",
       "18. 73\n",
       "19. 74\n",
       "20. 75\n",
       "21. 76\n",
       "22. 76\n",
       "23. 77\n",
       "24. 78\n",
       "25. 79\n",
       "26. 80\n",
       "27. 80\n",
       "28. 80\n",
       "29. 82\n",
       "30. 84\n",
       "31. 84\n",
       "32. 86\n",
       "33. 86\n",
       "34. 86\n",
       "35. 87\n",
       "36. 87\n",
       "37. 88\n",
       "38. 88\n",
       "39. 88\n",
       "40. 89\n",
       "41. 90\n",
       "42. 91\n",
       "43. 98\n",
       "44. 106\n",
       "45. 106\n",
       "46. 107\n",
       "47. 110\n",
       "48. 110\n",
       "49. 111\n",
       "50. 112\n",
       "51. 116\n",
       "52. 118\n",
       "53. 120\n",
       "54. 123\n",
       "55. 123\n",
       "56. 127\n",
       "57. 128\n",
       "58. 137\n",
       "59. 142\n",
       "60. 146\n",
       "\n",
       "\n"
      ],
      "text/plain": [
       " [1]  35  40  47  52  52  55  56  57  58  58  65  65  66  66  67  69  73  73  74\n",
       "[20]  75  76  76  77  78  79  80  80  80  82  84  84  86  86  86  87  87  88  88\n",
       "[39]  88  89  90  91  98 106 106 107 110 110 111 112 116 118 120 123 123 127 128\n",
       "[58] 137 142 146"
      ]
     },
     "metadata": {},
     "output_type": "display_data"
    }
   ],
   "source": [
    "sort(담즙의과포화비율)"
   ]
  },
  {
   "cell_type": "markdown",
   "metadata": {},
   "source": [
    "# 담즙의과포화비율의 정렬(sort)-내림차순"
   ]
  },
  {
   "cell_type": "code",
   "execution_count": 14,
   "metadata": {},
   "outputs": [
    {
     "data": {
      "text/html": [
       "<ol class=list-inline>\n",
       "\t<li>146</li>\n",
       "\t<li>142</li>\n",
       "\t<li>137</li>\n",
       "\t<li>128</li>\n",
       "\t<li>127</li>\n",
       "\t<li>123</li>\n",
       "\t<li>123</li>\n",
       "\t<li>120</li>\n",
       "\t<li>118</li>\n",
       "\t<li>116</li>\n",
       "\t<li>112</li>\n",
       "\t<li>111</li>\n",
       "\t<li>110</li>\n",
       "\t<li>110</li>\n",
       "\t<li>107</li>\n",
       "\t<li>106</li>\n",
       "\t<li>106</li>\n",
       "\t<li>98</li>\n",
       "\t<li>91</li>\n",
       "\t<li>90</li>\n",
       "\t<li>89</li>\n",
       "\t<li>88</li>\n",
       "\t<li>88</li>\n",
       "\t<li>88</li>\n",
       "\t<li>87</li>\n",
       "\t<li>87</li>\n",
       "\t<li>86</li>\n",
       "\t<li>86</li>\n",
       "\t<li>86</li>\n",
       "\t<li>84</li>\n",
       "\t<li>84</li>\n",
       "\t<li>82</li>\n",
       "\t<li>80</li>\n",
       "\t<li>80</li>\n",
       "\t<li>80</li>\n",
       "\t<li>79</li>\n",
       "\t<li>78</li>\n",
       "\t<li>77</li>\n",
       "\t<li>76</li>\n",
       "\t<li>76</li>\n",
       "\t<li>75</li>\n",
       "\t<li>74</li>\n",
       "\t<li>73</li>\n",
       "\t<li>73</li>\n",
       "\t<li>69</li>\n",
       "\t<li>67</li>\n",
       "\t<li>66</li>\n",
       "\t<li>66</li>\n",
       "\t<li>65</li>\n",
       "\t<li>65</li>\n",
       "\t<li>58</li>\n",
       "\t<li>58</li>\n",
       "\t<li>57</li>\n",
       "\t<li>56</li>\n",
       "\t<li>55</li>\n",
       "\t<li>52</li>\n",
       "\t<li>52</li>\n",
       "\t<li>47</li>\n",
       "\t<li>40</li>\n",
       "\t<li>35</li>\n",
       "</ol>\n"
      ],
      "text/latex": [
       "\\begin{enumerate*}\n",
       "\\item 146\n",
       "\\item 142\n",
       "\\item 137\n",
       "\\item 128\n",
       "\\item 127\n",
       "\\item 123\n",
       "\\item 123\n",
       "\\item 120\n",
       "\\item 118\n",
       "\\item 116\n",
       "\\item 112\n",
       "\\item 111\n",
       "\\item 110\n",
       "\\item 110\n",
       "\\item 107\n",
       "\\item 106\n",
       "\\item 106\n",
       "\\item 98\n",
       "\\item 91\n",
       "\\item 90\n",
       "\\item 89\n",
       "\\item 88\n",
       "\\item 88\n",
       "\\item 88\n",
       "\\item 87\n",
       "\\item 87\n",
       "\\item 86\n",
       "\\item 86\n",
       "\\item 86\n",
       "\\item 84\n",
       "\\item 84\n",
       "\\item 82\n",
       "\\item 80\n",
       "\\item 80\n",
       "\\item 80\n",
       "\\item 79\n",
       "\\item 78\n",
       "\\item 77\n",
       "\\item 76\n",
       "\\item 76\n",
       "\\item 75\n",
       "\\item 74\n",
       "\\item 73\n",
       "\\item 73\n",
       "\\item 69\n",
       "\\item 67\n",
       "\\item 66\n",
       "\\item 66\n",
       "\\item 65\n",
       "\\item 65\n",
       "\\item 58\n",
       "\\item 58\n",
       "\\item 57\n",
       "\\item 56\n",
       "\\item 55\n",
       "\\item 52\n",
       "\\item 52\n",
       "\\item 47\n",
       "\\item 40\n",
       "\\item 35\n",
       "\\end{enumerate*}\n"
      ],
      "text/markdown": [
       "1. 146\n",
       "2. 142\n",
       "3. 137\n",
       "4. 128\n",
       "5. 127\n",
       "6. 123\n",
       "7. 123\n",
       "8. 120\n",
       "9. 118\n",
       "10. 116\n",
       "11. 112\n",
       "12. 111\n",
       "13. 110\n",
       "14. 110\n",
       "15. 107\n",
       "16. 106\n",
       "17. 106\n",
       "18. 98\n",
       "19. 91\n",
       "20. 90\n",
       "21. 89\n",
       "22. 88\n",
       "23. 88\n",
       "24. 88\n",
       "25. 87\n",
       "26. 87\n",
       "27. 86\n",
       "28. 86\n",
       "29. 86\n",
       "30. 84\n",
       "31. 84\n",
       "32. 82\n",
       "33. 80\n",
       "34. 80\n",
       "35. 80\n",
       "36. 79\n",
       "37. 78\n",
       "38. 77\n",
       "39. 76\n",
       "40. 76\n",
       "41. 75\n",
       "42. 74\n",
       "43. 73\n",
       "44. 73\n",
       "45. 69\n",
       "46. 67\n",
       "47. 66\n",
       "48. 66\n",
       "49. 65\n",
       "50. 65\n",
       "51. 58\n",
       "52. 58\n",
       "53. 57\n",
       "54. 56\n",
       "55. 55\n",
       "56. 52\n",
       "57. 52\n",
       "58. 47\n",
       "59. 40\n",
       "60. 35\n",
       "\n",
       "\n"
      ],
      "text/plain": [
       " [1] 146 142 137 128 127 123 123 120 118 116 112 111 110 110 107 106 106  98  91\n",
       "[20]  90  89  88  88  88  87  87  86  86  86  84  84  82  80  80  80  79  78  77\n",
       "[39]  76  76  75  74  73  73  69  67  66  66  65  65  58  58  57  56  55  52  52\n",
       "[58]  47  40  35"
      ]
     },
     "metadata": {},
     "output_type": "display_data"
    }
   ],
   "source": [
    "sort(담즙의과포화비율, decreasing=T)"
   ]
  },
  {
   "cell_type": "markdown",
   "metadata": {},
   "source": [
    "# 수치적 측도(중심경향, 흩어진 정도) 및 그림"
   ]
  },
  {
   "cell_type": "markdown",
   "metadata": {},
   "source": [
    "## 합"
   ]
  },
  {
   "cell_type": "code",
   "execution_count": 16,
   "metadata": {},
   "outputs": [
    {
     "data": {
      "text/html": [
       "5185"
      ],
      "text/latex": [
       "5185"
      ],
      "text/markdown": [
       "5185"
      ],
      "text/plain": [
       "[1] 5185"
      ]
     },
     "metadata": {},
     "output_type": "display_data"
    }
   ],
   "source": [
    "sum(담즙의과포화비율)"
   ]
  },
  {
   "cell_type": "markdown",
   "metadata": {},
   "source": [
    "## 누적합(cumulative sum)"
   ]
  },
  {
   "cell_type": "code",
   "execution_count": 18,
   "metadata": {},
   "outputs": [
    {
     "data": {
      "text/html": [
       "<ol class=list-inline>\n",
       "\t<li>40</li>\n",
       "\t<li>128</li>\n",
       "\t<li>238</li>\n",
       "\t<li>295</li>\n",
       "\t<li>381</li>\n",
       "\t<li>518</li>\n",
       "\t<li>596</li>\n",
       "\t<li>707</li>\n",
       "\t<li>795</li>\n",
       "\t<li>875</li>\n",
       "\t<li>961</li>\n",
       "\t<li>1041</li>\n",
       "\t<li>1088</li>\n",
       "\t<li>1194</li>\n",
       "\t<li>1259</li>\n",
       "\t<li>1333</li>\n",
       "\t<li>1399</li>\n",
       "\t<li>1478</li>\n",
       "\t<li>1536</li>\n",
       "\t<li>1659</li>\n",
       "\t<li>1746</li>\n",
       "\t<li>1834</li>\n",
       "\t<li>1924</li>\n",
       "\t<li>1980</li>\n",
       "\t<li>2053</li>\n",
       "\t<li>2165</li>\n",
       "\t<li>2275</li>\n",
       "\t<li>2393</li>\n",
       "\t<li>2445</li>\n",
       "\t<li>2551</li>\n",
       "\t<li>2618</li>\n",
       "\t<li>2683</li>\n",
       "\t<li>2735</li>\n",
       "\t<li>2819</li>\n",
       "\t<li>2905</li>\n",
       "\t<li>2940</li>\n",
       "\t<li>3056</li>\n",
       "\t<li>3132</li>\n",
       "\t<li>3187</li>\n",
       "\t<li>3260</li>\n",
       "\t<li>3349</li>\n",
       "\t<li>3476</li>\n",
       "\t<li>3563</li>\n",
       "\t<li>3705</li>\n",
       "\t<li>3782</li>\n",
       "\t<li>3858</li>\n",
       "\t<li>3916</li>\n",
       "\t<li>4007</li>\n",
       "\t<li>4114</li>\n",
       "\t<li>4212</li>\n",
       "\t<li>4340</li>\n",
       "\t<li>4424</li>\n",
       "\t<li>4570</li>\n",
       "\t<li>4645</li>\n",
       "\t<li>4765</li>\n",
       "\t<li>4845</li>\n",
       "\t<li>4927</li>\n",
       "\t<li>5050</li>\n",
       "\t<li>5116</li>\n",
       "\t<li>5185</li>\n",
       "</ol>\n"
      ],
      "text/latex": [
       "\\begin{enumerate*}\n",
       "\\item 40\n",
       "\\item 128\n",
       "\\item 238\n",
       "\\item 295\n",
       "\\item 381\n",
       "\\item 518\n",
       "\\item 596\n",
       "\\item 707\n",
       "\\item 795\n",
       "\\item 875\n",
       "\\item 961\n",
       "\\item 1041\n",
       "\\item 1088\n",
       "\\item 1194\n",
       "\\item 1259\n",
       "\\item 1333\n",
       "\\item 1399\n",
       "\\item 1478\n",
       "\\item 1536\n",
       "\\item 1659\n",
       "\\item 1746\n",
       "\\item 1834\n",
       "\\item 1924\n",
       "\\item 1980\n",
       "\\item 2053\n",
       "\\item 2165\n",
       "\\item 2275\n",
       "\\item 2393\n",
       "\\item 2445\n",
       "\\item 2551\n",
       "\\item 2618\n",
       "\\item 2683\n",
       "\\item 2735\n",
       "\\item 2819\n",
       "\\item 2905\n",
       "\\item 2940\n",
       "\\item 3056\n",
       "\\item 3132\n",
       "\\item 3187\n",
       "\\item 3260\n",
       "\\item 3349\n",
       "\\item 3476\n",
       "\\item 3563\n",
       "\\item 3705\n",
       "\\item 3782\n",
       "\\item 3858\n",
       "\\item 3916\n",
       "\\item 4007\n",
       "\\item 4114\n",
       "\\item 4212\n",
       "\\item 4340\n",
       "\\item 4424\n",
       "\\item 4570\n",
       "\\item 4645\n",
       "\\item 4765\n",
       "\\item 4845\n",
       "\\item 4927\n",
       "\\item 5050\n",
       "\\item 5116\n",
       "\\item 5185\n",
       "\\end{enumerate*}\n"
      ],
      "text/markdown": [
       "1. 40\n",
       "2. 128\n",
       "3. 238\n",
       "4. 295\n",
       "5. 381\n",
       "6. 518\n",
       "7. 596\n",
       "8. 707\n",
       "9. 795\n",
       "10. 875\n",
       "11. 961\n",
       "12. 1041\n",
       "13. 1088\n",
       "14. 1194\n",
       "15. 1259\n",
       "16. 1333\n",
       "17. 1399\n",
       "18. 1478\n",
       "19. 1536\n",
       "20. 1659\n",
       "21. 1746\n",
       "22. 1834\n",
       "23. 1924\n",
       "24. 1980\n",
       "25. 2053\n",
       "26. 2165\n",
       "27. 2275\n",
       "28. 2393\n",
       "29. 2445\n",
       "30. 2551\n",
       "31. 2618\n",
       "32. 2683\n",
       "33. 2735\n",
       "34. 2819\n",
       "35. 2905\n",
       "36. 2940\n",
       "37. 3056\n",
       "38. 3132\n",
       "39. 3187\n",
       "40. 3260\n",
       "41. 3349\n",
       "42. 3476\n",
       "43. 3563\n",
       "44. 3705\n",
       "45. 3782\n",
       "46. 3858\n",
       "47. 3916\n",
       "48. 4007\n",
       "49. 4114\n",
       "50. 4212\n",
       "51. 4340\n",
       "52. 4424\n",
       "53. 4570\n",
       "54. 4645\n",
       "55. 4765\n",
       "56. 4845\n",
       "57. 4927\n",
       "58. 5050\n",
       "59. 5116\n",
       "60. 5185\n",
       "\n",
       "\n"
      ],
      "text/plain": [
       " [1]   40  128  238  295  381  518  596  707  795  875  961 1041 1088 1194 1259\n",
       "[16] 1333 1399 1478 1536 1659 1746 1834 1924 1980 2053 2165 2275 2393 2445 2551\n",
       "[31] 2618 2683 2735 2819 2905 2940 3056 3132 3187 3260 3349 3476 3563 3705 3782\n",
       "[46] 3858 3916 4007 4114 4212 4340 4424 4570 4645 4765 4845 4927 5050 5116 5185"
      ]
     },
     "metadata": {},
     "output_type": "display_data"
    }
   ],
   "source": [
    "cumsum(담즙의과포화비율)"
   ]
  },
  {
   "cell_type": "markdown",
   "metadata": {},
   "source": [
    "## 산술평균과 중앙값"
   ]
  },
  {
   "cell_type": "code",
   "execution_count": 21,
   "metadata": {},
   "outputs": [
    {
     "data": {
      "text/html": [
       "86.4166666666667"
      ],
      "text/latex": [
       "86.4166666666667"
      ],
      "text/markdown": [
       "86.4166666666667"
      ],
      "text/plain": [
       "[1] 86.41667"
      ]
     },
     "metadata": {},
     "output_type": "display_data"
    },
    {
     "data": {
      "text/html": [
       "84"
      ],
      "text/latex": [
       "84"
      ],
      "text/markdown": [
       "84"
      ],
      "text/plain": [
       "[1] 84"
      ]
     },
     "metadata": {},
     "output_type": "display_data"
    }
   ],
   "source": [
    "mean(담즙의과포화비율)\n",
    "median(담즙의과포화비율)"
   ]
  },
  {
   "cell_type": "markdown",
   "metadata": {},
   "source": [
    "## 10% 절삭평균"
   ]
  },
  {
   "cell_type": "code",
   "execution_count": 23,
   "metadata": {},
   "outputs": [
    {
     "data": {
      "text/html": [
       "85.4375"
      ],
      "text/latex": [
       "85.4375"
      ],
      "text/markdown": [
       "85.4375"
      ],
      "text/plain": [
       "[1] 85.4375"
      ]
     },
     "metadata": {},
     "output_type": "display_data"
    }
   ],
   "source": [
    "mean(담즙의과포화비율, trim=1/10)"
   ]
  },
  {
   "cell_type": "markdown",
   "metadata": {},
   "source": [
    "## 분산과 표준편차"
   ]
  },
  {
   "cell_type": "code",
   "execution_count": 25,
   "metadata": {},
   "outputs": [
    {
     "data": {
      "text/html": [
       "657.162429378531"
      ],
      "text/latex": [
       "657.162429378531"
      ],
      "text/markdown": [
       "657.162429378531"
      ],
      "text/plain": [
       "[1] 657.1624"
      ]
     },
     "metadata": {},
     "output_type": "display_data"
    },
    {
     "data": {
      "text/html": [
       "25.6351795269417"
      ],
      "text/latex": [
       "25.6351795269417"
      ],
      "text/markdown": [
       "25.6351795269417"
      ],
      "text/plain": [
       "[1] 25.63518"
      ]
     },
     "metadata": {},
     "output_type": "display_data"
    }
   ],
   "source": [
    "var(담즙의과포화비율)\n",
    "sd(담즙의과포화비율)"
   ]
  },
  {
   "cell_type": "markdown",
   "metadata": {},
   "source": [
    "## 다섯숫자 요약(최소값, 제1사분위수, 중앙값, 제3사분위수, 최대값)"
   ]
  },
  {
   "cell_type": "code",
   "execution_count": 26,
   "metadata": {},
   "outputs": [
    {
     "data": {
      "text/html": [
       "<ol class=list-inline>\n",
       "\t<li>35</li>\n",
       "\t<li>68</li>\n",
       "\t<li>84</li>\n",
       "\t<li>106.5</li>\n",
       "\t<li>146</li>\n",
       "</ol>\n"
      ],
      "text/latex": [
       "\\begin{enumerate*}\n",
       "\\item 35\n",
       "\\item 68\n",
       "\\item 84\n",
       "\\item 106.5\n",
       "\\item 146\n",
       "\\end{enumerate*}\n"
      ],
      "text/markdown": [
       "1. 35\n",
       "2. 68\n",
       "3. 84\n",
       "4. 106.5\n",
       "5. 146\n",
       "\n",
       "\n"
      ],
      "text/plain": [
       "[1]  35.0  68.0  84.0 106.5 146.0"
      ]
     },
     "metadata": {},
     "output_type": "display_data"
    },
    {
     "data": {
      "text/html": [
       "<dl class=dl-horizontal>\n",
       "\t<dt>0%</dt>\n",
       "\t\t<dd>35</dd>\n",
       "\t<dt>25%</dt>\n",
       "\t\t<dd>68.5</dd>\n",
       "\t<dt>50%</dt>\n",
       "\t\t<dd>84</dd>\n",
       "\t<dt>75%</dt>\n",
       "\t\t<dd>106.25</dd>\n",
       "\t<dt>100%</dt>\n",
       "\t\t<dd>146</dd>\n",
       "</dl>\n"
      ],
      "text/latex": [
       "\\begin{description*}\n",
       "\\item[0\\textbackslash{}\\%] 35\n",
       "\\item[25\\textbackslash{}\\%] 68.5\n",
       "\\item[50\\textbackslash{}\\%] 84\n",
       "\\item[75\\textbackslash{}\\%] 106.25\n",
       "\\item[100\\textbackslash{}\\%] 146\n",
       "\\end{description*}\n"
      ],
      "text/markdown": [
       "0%\n",
       ":   3525%\n",
       ":   68.550%\n",
       ":   8475%\n",
       ":   106.25100%\n",
       ":   146\n",
       "\n"
      ],
      "text/plain": [
       "    0%    25%    50%    75%   100% \n",
       " 35.00  68.50  84.00 106.25 146.00 "
      ]
     },
     "metadata": {},
     "output_type": "display_data"
    }
   ],
   "source": [
    "fivenum(담즙의과포화비율)\n",
    "quantile(담즙의과포화비율)"
   ]
  },
  {
   "cell_type": "markdown",
   "metadata": {},
   "source": [
    "## 수치적 측도 요약(다섯숫자 요약+산술평균)"
   ]
  },
  {
   "cell_type": "code",
   "execution_count": 27,
   "metadata": {},
   "outputs": [
    {
     "data": {
      "text/plain": [
       "   Min. 1st Qu.  Median    Mean 3rd Qu.    Max. \n",
       "  35.00   68.50   84.00   86.42  106.25  146.00 "
      ]
     },
     "metadata": {},
     "output_type": "display_data"
    }
   ],
   "source": [
    "summary(담즙의과포화비율)"
   ]
  },
  {
   "cell_type": "markdown",
   "metadata": {},
   "source": [
    "## 사분위수간범위=제3사분위수 - 제1사분위수"
   ]
  },
  {
   "cell_type": "code",
   "execution_count": 28,
   "metadata": {},
   "outputs": [
    {
     "data": {
      "text/html": [
       "37.75"
      ],
      "text/latex": [
       "37.75"
      ],
      "text/markdown": [
       "37.75"
      ],
      "text/plain": [
       "[1] 37.75"
      ]
     },
     "metadata": {},
     "output_type": "display_data"
    }
   ],
   "source": [
    "IQR(담즙의과포화비율)"
   ]
  },
  {
   "cell_type": "markdown",
   "metadata": {},
   "source": [
    "## MAD(Median Absolute Deviation) : 각 데이터에서 중앙값을 뺀 후 절대값을 취한 값들의 중앙값"
   ]
  },
  {
   "cell_type": "code",
   "execution_count": 30,
   "metadata": {},
   "outputs": [
    {
     "data": {
      "text/html": [
       "26.6868"
      ],
      "text/latex": [
       "26.6868"
      ],
      "text/markdown": [
       "26.6868"
      ],
      "text/plain": [
       "[1] 26.6868"
      ]
     },
     "metadata": {},
     "output_type": "display_data"
    }
   ],
   "source": [
    "mad(담즙의과포화비율)"
   ]
  },
  {
   "cell_type": "markdown",
   "metadata": {},
   "source": [
    "## 최대값과 최소값"
   ]
  },
  {
   "cell_type": "code",
   "execution_count": 31,
   "metadata": {},
   "outputs": [
    {
     "data": {
      "text/html": [
       "146"
      ],
      "text/latex": [
       "146"
      ],
      "text/markdown": [
       "146"
      ],
      "text/plain": [
       "[1] 146"
      ]
     },
     "metadata": {},
     "output_type": "display_data"
    },
    {
     "data": {
      "text/html": [
       "35"
      ],
      "text/latex": [
       "35"
      ],
      "text/markdown": [
       "35"
      ],
      "text/plain": [
       "[1] 35"
      ]
     },
     "metadata": {},
     "output_type": "display_data"
    }
   ],
   "source": [
    "max(담즙의과포화비율)\n",
    "min(담즙의과포화비율)"
   ]
  },
  {
   "cell_type": "markdown",
   "metadata": {},
   "source": [
    "## 범위\n",
    "r에서는 범위를 호출하면 최소값과 최대값을 출력함"
   ]
  },
  {
   "cell_type": "code",
   "execution_count": 34,
   "metadata": {},
   "outputs": [
    {
     "data": {
      "text/html": [
       "<ol class=list-inline>\n",
       "\t<li>35</li>\n",
       "\t<li>146</li>\n",
       "</ol>\n"
      ],
      "text/latex": [
       "\\begin{enumerate*}\n",
       "\\item 35\n",
       "\\item 146\n",
       "\\end{enumerate*}\n"
      ],
      "text/markdown": [
       "1. 35\n",
       "2. 146\n",
       "\n",
       "\n"
      ],
      "text/plain": [
       "[1]  35 146"
      ]
     },
     "metadata": {},
     "output_type": "display_data"
    },
    {
     "data": {
      "text/html": [
       "111"
      ],
      "text/latex": [
       "111"
      ],
      "text/markdown": [
       "111"
      ],
      "text/plain": [
       "[1] 111"
      ]
     },
     "metadata": {},
     "output_type": "display_data"
    }
   ],
   "source": [
    "range(담즙의과포화비율)\n",
    "\n",
    "RANGE=max(담즙의과포화비율)-min(담즙의과포화비율)\n",
    "RANGE"
   ]
  },
  {
   "cell_type": "code",
   "execution_count": null,
   "metadata": {},
   "outputs": [],
   "source": []
  }
 ],
 "metadata": {
  "kernelspec": {
   "display_name": "R",
   "language": "R",
   "name": "ir"
  },
  "language_info": {
   "codemirror_mode": "r",
   "file_extension": ".r",
   "mimetype": "text/x-r-source",
   "name": "R",
   "pygments_lexer": "r",
   "version": "3.6.1"
  }
 },
 "nbformat": 4,
 "nbformat_minor": 2
}
