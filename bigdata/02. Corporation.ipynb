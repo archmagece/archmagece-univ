{
 "cells": [
  {
   "cell_type": "markdown",
   "metadata": {},
   "source": [
    "# 기업경영과 빅데이터"
   ]
  },
  {
   "cell_type": "markdown",
   "metadata": {},
   "source": [
    "## Data\n",
    "기업경영의 보조수단 -> 기업경영 그 자체\n",
    "\n",
    "### ex)\n",
    "* 넷플릭스의 추천\n",
    "* 금융상품 개인화"
   ]
  },
  {
   "cell_type": "markdown",
   "metadata": {},
   "source": [
    "## 인터넷경영과 빅데이터경영\n",
    "\n",
    "| 인터넷 경영                  | 빅데이터 경영                            |\n",
    "|:-----------------------------|:-----------------------------------------|\n",
    "| 연결, 개발, 소통, 참여       | 발견, 인사이트.지식, 새로운 비지니스     |\n",
    "| 인터넷으로 잔액조회, 대출 등 | 데이터분석으로 수익성높은 고객 선별 권유 |\n",
    "| Mass                         | Custom                                   |"
   ]
  },
  {
   "cell_type": "markdown",
   "metadata": {},
   "source": []
  }
 ],
 "metadata": {
  "kernelspec": {
   "display_name": "R",
   "language": "R",
   "name": "ir"
  },
  "language_info": {
   "codemirror_mode": "r",
   "file_extension": ".r",
   "mimetype": "text/x-r-source",
   "name": "R",
   "pygments_lexer": "r",
   "version": "3.6.1"
  }
 },
 "nbformat": 4,
 "nbformat_minor": 2
}
