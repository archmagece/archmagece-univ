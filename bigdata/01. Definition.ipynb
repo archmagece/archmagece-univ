{
 "cells": [
  {
   "cell_type": "markdown",
   "metadata": {},
   "source": [
    "# 빅데이터의 정의"
   ]
  },
  {
   "cell_type": "markdown",
   "metadata": {},
   "source": [
    "## 3V\n",
    "\n",
    "* Volume 규모\n",
    "* Variety 다양성\n",
    "* Velocity 속도"
   ]
  },
  {
   "cell_type": "markdown",
   "metadata": {},
   "source": [
    "## 용량의 단위\n",
    "\n",
    "* KB kilo 10^3\n",
    "* MB mega 10^6\n",
    "* GB giga 10^9\n",
    "* TB tera 10^12\n",
    "* PB peta 10^15\n",
    "* EB exa 10^18\n",
    "* ZB zetta 10^21\n",
    "* YO yotta 10^24"
   ]
  },
  {
   "cell_type": "markdown",
   "metadata": {},
   "source": [
    "## 데이터과학이란\n",
    "\n",
    "빅데이터를 효과적으로 수집, 분석하여 가치 있는 통찰을 얻고 이를 최종 사용자에게 간단한 비기술적 언어로 표현하는 것과 관련된 학문"
   ]
  },
  {
   "cell_type": "code",
   "execution_count": null,
   "metadata": {},
   "outputs": [],
   "source": []
  }
 ],
 "metadata": {
  "kernelspec": {
   "display_name": "R",
   "language": "R",
   "name": "ir"
  },
  "language_info": {
   "codemirror_mode": "r",
   "file_extension": ".r",
   "mimetype": "text/x-r-source",
   "name": "R",
   "pygments_lexer": "r",
   "version": "3.6.1"
  }
 },
 "nbformat": 4,
 "nbformat_minor": 2
}
