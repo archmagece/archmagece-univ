{
 "cells": [
  {
   "cell_type": "markdown",
   "metadata": {},
   "source": [
    "# 개요\n",
    "\n",
    "## 정의\n",
    "\n",
    "## 경영에 활용\n",
    "\n",
    "### 개인화 서비스\n",
    "### CRM 고객관계관리 시스템\n",
    "### ERP 전사적자원관리 시스템\n",
    "\n",
    "## 기술소개\n",
    "\n",
    "## 부작용 등\n",
    "\n",
    "# 기술활용\n",
    "\n",
    "## 수집\n",
    "\n",
    "## 처리\n",
    "\n",
    "## 시각화, 분석\n",
    "\n",
    "## 적용\n",
    "\n",
    "### 추천시스템\n",
    "### arnormal detection"
   ]
  },
  {
   "cell_type": "code",
   "execution_count": null,
   "metadata": {},
   "outputs": [],
   "source": []
  }
 ],
 "metadata": {
  "kernelspec": {
   "display_name": "R",
   "language": "R",
   "name": "ir"
  },
  "language_info": {
   "codemirror_mode": "r",
   "file_extension": ".r",
   "mimetype": "text/x-r-source",
   "name": "R",
   "pygments_lexer": "r",
   "version": "3.6.1"
  }
 },
 "nbformat": 4,
 "nbformat_minor": 2
}
